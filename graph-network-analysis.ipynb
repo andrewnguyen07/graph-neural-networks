{
 "metadata": {
  "language_info": {
   "codemirror_mode": {
    "name": "ipython",
    "version": 3
   },
   "file_extension": ".py",
   "mimetype": "text/x-python",
   "name": "python",
   "nbconvert_exporter": "python",
   "pygments_lexer": "ipython3",
   "version": "3.8.6-final"
  },
  "orig_nbformat": 2,
  "kernelspec": {
   "name": "Python 3.8.6 64-bit",
   "display_name": "Python 3.8.6 64-bit",
   "metadata": {
    "interpreter": {
     "hash": "aee8b7b246df8f9039afb4144a1f6fd8d2ca17a180786b69acc140d282b71a49"
    }
   }
  }
 },
 "nbformat": 4,
 "nbformat_minor": 2,
 "cells": [
  {
   "cell_type": "code",
   "execution_count": 1,
   "metadata": {},
   "outputs": [],
   "source": [
    "import pandas as pd \n",
    "import numpy as np \n",
    "import matplotlib.pyplot as plt\n",
    "import seaborn as sns\n",
    "import json"
   ]
  },
  {
   "cell_type": "code",
   "execution_count": 2,
   "metadata": {},
   "outputs": [],
   "source": [
    "# 1. Data loading and preparation"
   ]
  },
  {
   "cell_type": "code",
   "execution_count": 3,
   "metadata": {},
   "outputs": [],
   "source": [
    "# data source: https://snap.stanford.edu/data/facebook-large-page-page-network.html\n",
    "\n",
    "nodes = pd.read_csv(\"musae_facebook_target.csv\")\n",
    "edges = pd.read_csv(\"musae_facebook_edges.csv\")\n",
    "edges = edges.astype(\"int\")"
   ]
  },
  {
   "cell_type": "code",
   "execution_count": 4,
   "metadata": {},
   "outputs": [
    {
     "output_type": "execute_result",
     "data": {
      "text/plain": [
       "   id       facebook_id                                     page_name  \\\n",
       "0   0   145647315578475                      The Voice of China 中国好声音   \n",
       "1   1      191483281412                 U.S. Consulate General Mumbai   \n",
       "2   2   144761358898518                                          ESET   \n",
       "3   3   568700043198473  Consulate General of Switzerland in Montreal   \n",
       "4   4  1408935539376139             Mark Bailey MP - Labor for Miller   \n",
       "\n",
       "    page_type  \n",
       "0      tvshow  \n",
       "1  government  \n",
       "2     company  \n",
       "3  government  \n",
       "4  politician  "
      ],
      "text/html": "<div>\n<style scoped>\n    .dataframe tbody tr th:only-of-type {\n        vertical-align: middle;\n    }\n\n    .dataframe tbody tr th {\n        vertical-align: top;\n    }\n\n    .dataframe thead th {\n        text-align: right;\n    }\n</style>\n<table border=\"1\" class=\"dataframe\">\n  <thead>\n    <tr style=\"text-align: right;\">\n      <th></th>\n      <th>id</th>\n      <th>facebook_id</th>\n      <th>page_name</th>\n      <th>page_type</th>\n    </tr>\n  </thead>\n  <tbody>\n    <tr>\n      <th>0</th>\n      <td>0</td>\n      <td>145647315578475</td>\n      <td>The Voice of China 中国好声音</td>\n      <td>tvshow</td>\n    </tr>\n    <tr>\n      <th>1</th>\n      <td>1</td>\n      <td>191483281412</td>\n      <td>U.S. Consulate General Mumbai</td>\n      <td>government</td>\n    </tr>\n    <tr>\n      <th>2</th>\n      <td>2</td>\n      <td>144761358898518</td>\n      <td>ESET</td>\n      <td>company</td>\n    </tr>\n    <tr>\n      <th>3</th>\n      <td>3</td>\n      <td>568700043198473</td>\n      <td>Consulate General of Switzerland in Montreal</td>\n      <td>government</td>\n    </tr>\n    <tr>\n      <th>4</th>\n      <td>4</td>\n      <td>1408935539376139</td>\n      <td>Mark Bailey MP - Labor for Miller</td>\n      <td>politician</td>\n    </tr>\n  </tbody>\n</table>\n</div>"
     },
     "metadata": {},
     "execution_count": 4
    }
   ],
   "source": [
    "nodes.head()"
   ]
  },
  {
   "cell_type": "code",
   "execution_count": 5,
   "metadata": {},
   "outputs": [
    {
     "output_type": "execute_result",
     "data": {
      "text/plain": [
       "         f0    f1    f2      f3      f4      f5      f6      f7      f8  \\\n",
       "554    2835  4518  2198  2014.0  3818.0  3045.0  4570.0  4585.0  4596.0   \n",
       "10772  3293  2534   979  2014.0  2317.0     NaN     NaN     NaN     NaN   \n",
       "6350   4477  2895  4039  3282.0   765.0  2669.0     NaN     NaN     NaN   \n",
       "9218   3133  2052   979  3355.0   107.0  1878.0  1105.0  4571.0  4582.0   \n",
       "7787   1151   631  2613  2791.0   648.0  1684.0  3818.0   107.0  1878.0   \n",
       "\n",
       "           f9  ...     f22     f23     f24     f25  f26  f27  f28  f29  f30  \\\n",
       "554    4599.0  ...     NaN     NaN     NaN     NaN  NaN  NaN  NaN  NaN  NaN   \n",
       "10772     NaN  ...     NaN     NaN     NaN     NaN  NaN  NaN  NaN  NaN  NaN   \n",
       "6350      NaN  ...     NaN     NaN     NaN     NaN  NaN  NaN  NaN  NaN  NaN   \n",
       "9218   4593.0  ...  4713.0     NaN     NaN     NaN  NaN  NaN  NaN  NaN  NaN   \n",
       "7787   1105.0  ...  4678.0  4695.0  4696.0  4708.0  NaN  NaN  NaN  NaN  NaN   \n",
       "\n",
       "          id  \n",
       "554      554  \n",
       "10772  10772  \n",
       "6350    6350  \n",
       "9218    9218  \n",
       "7787    7787  \n",
       "\n",
       "[5 rows x 32 columns]"
      ],
      "text/html": "<div>\n<style scoped>\n    .dataframe tbody tr th:only-of-type {\n        vertical-align: middle;\n    }\n\n    .dataframe tbody tr th {\n        vertical-align: top;\n    }\n\n    .dataframe thead th {\n        text-align: right;\n    }\n</style>\n<table border=\"1\" class=\"dataframe\">\n  <thead>\n    <tr style=\"text-align: right;\">\n      <th></th>\n      <th>f0</th>\n      <th>f1</th>\n      <th>f2</th>\n      <th>f3</th>\n      <th>f4</th>\n      <th>f5</th>\n      <th>f6</th>\n      <th>f7</th>\n      <th>f8</th>\n      <th>f9</th>\n      <th>...</th>\n      <th>f22</th>\n      <th>f23</th>\n      <th>f24</th>\n      <th>f25</th>\n      <th>f26</th>\n      <th>f27</th>\n      <th>f28</th>\n      <th>f29</th>\n      <th>f30</th>\n      <th>id</th>\n    </tr>\n  </thead>\n  <tbody>\n    <tr>\n      <th>554</th>\n      <td>2835</td>\n      <td>4518</td>\n      <td>2198</td>\n      <td>2014.0</td>\n      <td>3818.0</td>\n      <td>3045.0</td>\n      <td>4570.0</td>\n      <td>4585.0</td>\n      <td>4596.0</td>\n      <td>4599.0</td>\n      <td>...</td>\n      <td>NaN</td>\n      <td>NaN</td>\n      <td>NaN</td>\n      <td>NaN</td>\n      <td>NaN</td>\n      <td>NaN</td>\n      <td>NaN</td>\n      <td>NaN</td>\n      <td>NaN</td>\n      <td>554</td>\n    </tr>\n    <tr>\n      <th>10772</th>\n      <td>3293</td>\n      <td>2534</td>\n      <td>979</td>\n      <td>2014.0</td>\n      <td>2317.0</td>\n      <td>NaN</td>\n      <td>NaN</td>\n      <td>NaN</td>\n      <td>NaN</td>\n      <td>NaN</td>\n      <td>...</td>\n      <td>NaN</td>\n      <td>NaN</td>\n      <td>NaN</td>\n      <td>NaN</td>\n      <td>NaN</td>\n      <td>NaN</td>\n      <td>NaN</td>\n      <td>NaN</td>\n      <td>NaN</td>\n      <td>10772</td>\n    </tr>\n    <tr>\n      <th>6350</th>\n      <td>4477</td>\n      <td>2895</td>\n      <td>4039</td>\n      <td>3282.0</td>\n      <td>765.0</td>\n      <td>2669.0</td>\n      <td>NaN</td>\n      <td>NaN</td>\n      <td>NaN</td>\n      <td>NaN</td>\n      <td>...</td>\n      <td>NaN</td>\n      <td>NaN</td>\n      <td>NaN</td>\n      <td>NaN</td>\n      <td>NaN</td>\n      <td>NaN</td>\n      <td>NaN</td>\n      <td>NaN</td>\n      <td>NaN</td>\n      <td>6350</td>\n    </tr>\n    <tr>\n      <th>9218</th>\n      <td>3133</td>\n      <td>2052</td>\n      <td>979</td>\n      <td>3355.0</td>\n      <td>107.0</td>\n      <td>1878.0</td>\n      <td>1105.0</td>\n      <td>4571.0</td>\n      <td>4582.0</td>\n      <td>4593.0</td>\n      <td>...</td>\n      <td>4713.0</td>\n      <td>NaN</td>\n      <td>NaN</td>\n      <td>NaN</td>\n      <td>NaN</td>\n      <td>NaN</td>\n      <td>NaN</td>\n      <td>NaN</td>\n      <td>NaN</td>\n      <td>9218</td>\n    </tr>\n    <tr>\n      <th>7787</th>\n      <td>1151</td>\n      <td>631</td>\n      <td>2613</td>\n      <td>2791.0</td>\n      <td>648.0</td>\n      <td>1684.0</td>\n      <td>3818.0</td>\n      <td>107.0</td>\n      <td>1878.0</td>\n      <td>1105.0</td>\n      <td>...</td>\n      <td>4678.0</td>\n      <td>4695.0</td>\n      <td>4696.0</td>\n      <td>4708.0</td>\n      <td>NaN</td>\n      <td>NaN</td>\n      <td>NaN</td>\n      <td>NaN</td>\n      <td>NaN</td>\n      <td>7787</td>\n    </tr>\n  </tbody>\n</table>\n<p>5 rows × 32 columns</p>\n</div>"
     },
     "metadata": {},
     "execution_count": 5
    }
   ],
   "source": [
    "with open(\"musae_facebook_features.json\") as json_data:\n",
    "    data = json.load(json_data)\n",
    "\n",
    "col_names = []\n",
    "for i in range(31):\n",
    "    a = '{}{}'.format('f', i)\n",
    "    col_names.append(a)\n",
    "\n",
    "features = pd.DataFrame.from_dict(data=data, orient='index', columns=col_names)\n",
    "features['id'] = features.index\n",
    "features.head()"
   ]
  },
  {
   "cell_type": "code",
   "execution_count": 6,
   "metadata": {},
   "outputs": [
    {
     "output_type": "execute_result",
     "data": {
      "text/plain": [
       "         f0    f1    f2    f3    f4    f5    f6    f7    f8    f9  ...   f22  \\\n",
       "554    2835  4518  2198  2014  3818  3045  4570  4585  4596  4599  ...  4699   \n",
       "10772  3293  2534   979  2014  2317  2397  2530  2890  3440  4055  ...  4699   \n",
       "6350   4477  2895  4039  3282   765  2669  2530  2890  3440  4055  ...  4699   \n",
       "9218   3133  2052   979  3355   107  1878  1105  4571  4582  4593  ...  4713   \n",
       "7787   1151   631  2613  2791   648  1684  3818   107  1878  1105  ...  4678   \n",
       "\n",
       "        f23   f24   f25   f26   f27   f28   f29   f30     id  \n",
       "554    4702  4704  4705  4706  4705  4707  4707  4708    554  \n",
       "10772  4702  4704  4705  4706  4705  4707  4707  4708  10772  \n",
       "6350   4702  4704  4705  4706  4705  4707  4707  4708   6350  \n",
       "9218   4702  4704  4705  4706  4705  4707  4707  4708   9218  \n",
       "7787   4695  4696  4708  4706  4705  4707  4707  4708   7787  \n",
       "\n",
       "[5 rows x 32 columns]"
      ],
      "text/html": "<div>\n<style scoped>\n    .dataframe tbody tr th:only-of-type {\n        vertical-align: middle;\n    }\n\n    .dataframe tbody tr th {\n        vertical-align: top;\n    }\n\n    .dataframe thead th {\n        text-align: right;\n    }\n</style>\n<table border=\"1\" class=\"dataframe\">\n  <thead>\n    <tr style=\"text-align: right;\">\n      <th></th>\n      <th>f0</th>\n      <th>f1</th>\n      <th>f2</th>\n      <th>f3</th>\n      <th>f4</th>\n      <th>f5</th>\n      <th>f6</th>\n      <th>f7</th>\n      <th>f8</th>\n      <th>f9</th>\n      <th>...</th>\n      <th>f22</th>\n      <th>f23</th>\n      <th>f24</th>\n      <th>f25</th>\n      <th>f26</th>\n      <th>f27</th>\n      <th>f28</th>\n      <th>f29</th>\n      <th>f30</th>\n      <th>id</th>\n    </tr>\n  </thead>\n  <tbody>\n    <tr>\n      <th>554</th>\n      <td>2835</td>\n      <td>4518</td>\n      <td>2198</td>\n      <td>2014</td>\n      <td>3818</td>\n      <td>3045</td>\n      <td>4570</td>\n      <td>4585</td>\n      <td>4596</td>\n      <td>4599</td>\n      <td>...</td>\n      <td>4699</td>\n      <td>4702</td>\n      <td>4704</td>\n      <td>4705</td>\n      <td>4706</td>\n      <td>4705</td>\n      <td>4707</td>\n      <td>4707</td>\n      <td>4708</td>\n      <td>554</td>\n    </tr>\n    <tr>\n      <th>10772</th>\n      <td>3293</td>\n      <td>2534</td>\n      <td>979</td>\n      <td>2014</td>\n      <td>2317</td>\n      <td>2397</td>\n      <td>2530</td>\n      <td>2890</td>\n      <td>3440</td>\n      <td>4055</td>\n      <td>...</td>\n      <td>4699</td>\n      <td>4702</td>\n      <td>4704</td>\n      <td>4705</td>\n      <td>4706</td>\n      <td>4705</td>\n      <td>4707</td>\n      <td>4707</td>\n      <td>4708</td>\n      <td>10772</td>\n    </tr>\n    <tr>\n      <th>6350</th>\n      <td>4477</td>\n      <td>2895</td>\n      <td>4039</td>\n      <td>3282</td>\n      <td>765</td>\n      <td>2669</td>\n      <td>2530</td>\n      <td>2890</td>\n      <td>3440</td>\n      <td>4055</td>\n      <td>...</td>\n      <td>4699</td>\n      <td>4702</td>\n      <td>4704</td>\n      <td>4705</td>\n      <td>4706</td>\n      <td>4705</td>\n      <td>4707</td>\n      <td>4707</td>\n      <td>4708</td>\n      <td>6350</td>\n    </tr>\n    <tr>\n      <th>9218</th>\n      <td>3133</td>\n      <td>2052</td>\n      <td>979</td>\n      <td>3355</td>\n      <td>107</td>\n      <td>1878</td>\n      <td>1105</td>\n      <td>4571</td>\n      <td>4582</td>\n      <td>4593</td>\n      <td>...</td>\n      <td>4713</td>\n      <td>4702</td>\n      <td>4704</td>\n      <td>4705</td>\n      <td>4706</td>\n      <td>4705</td>\n      <td>4707</td>\n      <td>4707</td>\n      <td>4708</td>\n      <td>9218</td>\n    </tr>\n    <tr>\n      <th>7787</th>\n      <td>1151</td>\n      <td>631</td>\n      <td>2613</td>\n      <td>2791</td>\n      <td>648</td>\n      <td>1684</td>\n      <td>3818</td>\n      <td>107</td>\n      <td>1878</td>\n      <td>1105</td>\n      <td>...</td>\n      <td>4678</td>\n      <td>4695</td>\n      <td>4696</td>\n      <td>4708</td>\n      <td>4706</td>\n      <td>4705</td>\n      <td>4707</td>\n      <td>4707</td>\n      <td>4708</td>\n      <td>7787</td>\n    </tr>\n  </tbody>\n</table>\n<p>5 rows × 32 columns</p>\n</div>"
     },
     "metadata": {},
     "execution_count": 6
    }
   ],
   "source": [
    "# impute null values with mean values\n",
    "\n",
    "features_name = []\n",
    "for i in range(31):\n",
    "    a = '{}{}'.format('f',i)\n",
    "    features_name.append(a)\n",
    "\n",
    "from sklearn.impute import SimpleImputer\n",
    "\n",
    "imputer = SimpleImputer(missing_values=np.nan, strategy='mean')\n",
    "features_tf = imputer.fit_transform(features.iloc[:, :-1])\n",
    "features_tf = pd.DataFrame(features_tf, columns=features_name, index = features.index)\n",
    "features_tf['id'] = features_tf.index\n",
    "features_tf = features_tf.astype('int')\n",
    "features_tf.head()"
   ]
  },
  {
   "cell_type": "code",
   "execution_count": 7,
   "metadata": {},
   "outputs": [
    {
     "output_type": "execute_result",
     "data": {
      "text/plain": [
       "   id       facebook_id                                     page_name  \\\n",
       "0   0   145647315578475                      The Voice of China 中国好声音   \n",
       "1   1      191483281412                 U.S. Consulate General Mumbai   \n",
       "2   2   144761358898518                                          ESET   \n",
       "3   3   568700043198473  Consulate General of Switzerland in Montreal   \n",
       "4   4  1408935539376139             Mark Bailey MP - Labor for Miller   \n",
       "\n",
       "    page_type    f0    f1    f2    f3    f4    f5  ...   f21   f22   f23  \\\n",
       "0      tvshow  3133  3825   236   874  1072   143  ...  4693  4699  4702   \n",
       "1  government  3399   597   979  2014  2327  2397  ...  4693  4699  4702   \n",
       "2     company  3383  3832  2035   765  3972  3364  ...  4688  4697  4713   \n",
       "3  government  2710  1960  1940  4514  4339   761  ...  4693  4699  4702   \n",
       "4  politician  2873  4518  4535  1602  3500  4457  ...  4693  4699  4702   \n",
       "\n",
       "    f24   f25   f26   f27   f28   f29   f30  \n",
       "0  4704  4705  4706  4705  4707  4707  4708  \n",
       "1  4704  4705  4706  4705  4707  4707  4708  \n",
       "2  4704  4705  4706  4705  4707  4707  4708  \n",
       "3  4704  4705  4706  4705  4707  4707  4708  \n",
       "4  4704  4705  4706  4705  4707  4707  4708  \n",
       "\n",
       "[5 rows x 35 columns]"
      ],
      "text/html": "<div>\n<style scoped>\n    .dataframe tbody tr th:only-of-type {\n        vertical-align: middle;\n    }\n\n    .dataframe tbody tr th {\n        vertical-align: top;\n    }\n\n    .dataframe thead th {\n        text-align: right;\n    }\n</style>\n<table border=\"1\" class=\"dataframe\">\n  <thead>\n    <tr style=\"text-align: right;\">\n      <th></th>\n      <th>id</th>\n      <th>facebook_id</th>\n      <th>page_name</th>\n      <th>page_type</th>\n      <th>f0</th>\n      <th>f1</th>\n      <th>f2</th>\n      <th>f3</th>\n      <th>f4</th>\n      <th>f5</th>\n      <th>...</th>\n      <th>f21</th>\n      <th>f22</th>\n      <th>f23</th>\n      <th>f24</th>\n      <th>f25</th>\n      <th>f26</th>\n      <th>f27</th>\n      <th>f28</th>\n      <th>f29</th>\n      <th>f30</th>\n    </tr>\n  </thead>\n  <tbody>\n    <tr>\n      <th>0</th>\n      <td>0</td>\n      <td>145647315578475</td>\n      <td>The Voice of China 中国好声音</td>\n      <td>tvshow</td>\n      <td>3133</td>\n      <td>3825</td>\n      <td>236</td>\n      <td>874</td>\n      <td>1072</td>\n      <td>143</td>\n      <td>...</td>\n      <td>4693</td>\n      <td>4699</td>\n      <td>4702</td>\n      <td>4704</td>\n      <td>4705</td>\n      <td>4706</td>\n      <td>4705</td>\n      <td>4707</td>\n      <td>4707</td>\n      <td>4708</td>\n    </tr>\n    <tr>\n      <th>1</th>\n      <td>1</td>\n      <td>191483281412</td>\n      <td>U.S. Consulate General Mumbai</td>\n      <td>government</td>\n      <td>3399</td>\n      <td>597</td>\n      <td>979</td>\n      <td>2014</td>\n      <td>2327</td>\n      <td>2397</td>\n      <td>...</td>\n      <td>4693</td>\n      <td>4699</td>\n      <td>4702</td>\n      <td>4704</td>\n      <td>4705</td>\n      <td>4706</td>\n      <td>4705</td>\n      <td>4707</td>\n      <td>4707</td>\n      <td>4708</td>\n    </tr>\n    <tr>\n      <th>2</th>\n      <td>2</td>\n      <td>144761358898518</td>\n      <td>ESET</td>\n      <td>company</td>\n      <td>3383</td>\n      <td>3832</td>\n      <td>2035</td>\n      <td>765</td>\n      <td>3972</td>\n      <td>3364</td>\n      <td>...</td>\n      <td>4688</td>\n      <td>4697</td>\n      <td>4713</td>\n      <td>4704</td>\n      <td>4705</td>\n      <td>4706</td>\n      <td>4705</td>\n      <td>4707</td>\n      <td>4707</td>\n      <td>4708</td>\n    </tr>\n    <tr>\n      <th>3</th>\n      <td>3</td>\n      <td>568700043198473</td>\n      <td>Consulate General of Switzerland in Montreal</td>\n      <td>government</td>\n      <td>2710</td>\n      <td>1960</td>\n      <td>1940</td>\n      <td>4514</td>\n      <td>4339</td>\n      <td>761</td>\n      <td>...</td>\n      <td>4693</td>\n      <td>4699</td>\n      <td>4702</td>\n      <td>4704</td>\n      <td>4705</td>\n      <td>4706</td>\n      <td>4705</td>\n      <td>4707</td>\n      <td>4707</td>\n      <td>4708</td>\n    </tr>\n    <tr>\n      <th>4</th>\n      <td>4</td>\n      <td>1408935539376139</td>\n      <td>Mark Bailey MP - Labor for Miller</td>\n      <td>politician</td>\n      <td>2873</td>\n      <td>4518</td>\n      <td>4535</td>\n      <td>1602</td>\n      <td>3500</td>\n      <td>4457</td>\n      <td>...</td>\n      <td>4693</td>\n      <td>4699</td>\n      <td>4702</td>\n      <td>4704</td>\n      <td>4705</td>\n      <td>4706</td>\n      <td>4705</td>\n      <td>4707</td>\n      <td>4707</td>\n      <td>4708</td>\n    </tr>\n  </tbody>\n</table>\n<p>5 rows × 35 columns</p>\n</div>"
     },
     "metadata": {},
     "execution_count": 7
    }
   ],
   "source": [
    "# merge features into nodes dataframe\n",
    "\n",
    "nodes = nodes.merge(features_tf, how ='inner', on='id')\n",
    "nodes.head()"
   ]
  },
  {
   "cell_type": "code",
   "execution_count": 8,
   "metadata": {},
   "outputs": [],
   "source": [
    "# 2. Graph Creation"
   ]
  },
  {
   "cell_type": "code",
   "execution_count": 9,
   "metadata": {
    "tags": []
   },
   "outputs": [],
   "source": [
    "# remove id from edges which are not in nodes\n",
    "\n",
    "node_id_unique = list(nodes.id.unique())\n",
    "edges = edges[edges['id_1'].isin(node_id_unique)]\n",
    "edges = edges[edges['id_2'].isin(node_id_unique)]"
   ]
  },
  {
   "cell_type": "code",
   "execution_count": 10,
   "metadata": {},
   "outputs": [],
   "source": [
    "import networkx as nx \n",
    "\n",
    "G = nx.Graph()\n",
    "\n",
    "# add nodes\n",
    "for node in nodes.iloc[:,0]:\n",
    "    G.add_node(int(node))\n",
    "\n",
    "# add edges\n",
    "edge_1 = list(edges['id_1'])\n",
    "edge_2 = list(edges['id_2'])\n",
    "\n",
    "for i, j in zip(edge_1, edge_2):\n",
    "    G.add_edge(int(i), int(j))"
   ]
  },
  {
   "cell_type": "code",
   "execution_count": 11,
   "metadata": {},
   "outputs": [
    {
     "output_type": "execute_result",
     "data": {
      "text/plain": [
       "22470"
      ]
     },
     "metadata": {},
     "execution_count": 11
    }
   ],
   "source": [
    "G.number_of_nodes()"
   ]
  },
  {
   "cell_type": "code",
   "execution_count": 12,
   "metadata": {},
   "outputs": [
    {
     "output_type": "execute_result",
     "data": {
      "text/plain": [
       "171002"
      ]
     },
     "metadata": {},
     "execution_count": 12
    }
   ],
   "source": [
    "G.number_of_edges()"
   ]
  },
  {
   "cell_type": "code",
   "execution_count": 13,
   "metadata": {},
   "outputs": [],
   "source": [
    "# set node attributes (feature variables)\n",
    "for i in range(0,31):\n",
    "    nx.set_node_attributes(G, nodes.iloc[:, i+4], features_name[i])"
   ]
  },
  {
   "cell_type": "code",
   "execution_count": 14,
   "metadata": {},
   "outputs": [
    {
     "output_type": "execute_result",
     "data": {
      "text/plain": [
       "'Name: \\nType: Graph\\nNumber of nodes: 22470\\nNumber of edges: 171002\\nAverage degree:  15.2205'"
      ]
     },
     "metadata": {},
     "execution_count": 14
    }
   ],
   "source": [
    "nx.info(G)"
   ]
  },
  {
   "cell_type": "code",
   "execution_count": 15,
   "metadata": {},
   "outputs": [],
   "source": [
    "# 2. Graph Network Metrics\n",
    "# 2.1. Connectivity: Density, Clustering Coefficient, Distance\n",
    "# 2.2. Centrality: Degree, Betweenness, Eigenvector, Closeness"
   ]
  },
  {
   "cell_type": "code",
   "execution_count": 16,
   "metadata": {},
   "outputs": [
    {
     "output_type": "stream",
     "name": "stdout",
     "text": [
      "0.000677398715568023\n",
      "0.3597383824426918\n",
      "[3133, 3199, 14577, 12203, 17126, 9254, 3399]\n",
      "6\n"
     ]
    }
   ],
   "source": [
    "# 2.1. Connectivity\n",
    "\n",
    "# density\n",
    "density = nx.density(G)\n",
    "print(density)\n",
    "\n",
    "# clustering\n",
    "avg_cluster_coef = nx.average_clustering(G)\n",
    "print(avg_cluster_coef)\n",
    "\n",
    "# distance\n",
    "shortest_path = nx.shortest_path(G, G.nodes[0]['f0'], G.nodes[1]['f0'])\n",
    "print(shortest_path)\n",
    "\n",
    "shortest_path_len = nx.shortest_path_length(G, G.nodes[0]['f0'], G.nodes[1]['f0'])\n",
    "print(shortest_path_len)"
   ]
  },
  {
   "cell_type": "code",
   "execution_count": 28,
   "metadata": {},
   "outputs": [],
   "source": [
    "# 2.2. Centrality\n",
    "\n",
    "# calculate centrality values\n",
    "degree_centrality = nx.degree_centrality(G) # nunber of edges a node has\n",
    "betweenness_centrality = nx.betweenness_centrality(G, normalized=True) # frequency of a node appearing in the shortest paths / all shortest paths\n",
    "eigenvector_centrality = nx.eigenvector_centrality(G) # the centrality of a node based on that of its neighbors\n",
    "closeness_centrality = nx.closeness_centrality(G, normalized=True) # the more central a node is, the closer it is to all other nodes\n",
    "\n",
    "# set centrality as node attributes\n",
    "set_node_attributes(G, degree_centrality, 'degree_centrality')\n",
    "set_node_attributes(G, betweenness_centrality, 'betweenness_centrality')\n",
    "set_node_attributes(G, eigenvector_centrality, 'eigenvector_centrality')\n",
    "set_node_attributes(G, closeness_centrality, 'closeness_centrality')"
   ]
  },
  {
   "cell_type": "code",
   "execution_count": null,
   "metadata": {},
   "outputs": [],
   "source": [
    "# convert nodes to dataframe for quick reference\n",
    "network_df = nx.to_pandas_dataframe(G)\n",
    "network_df.head()"
   ]
  },
  {
   "cell_type": "code",
   "execution_count": null,
   "metadata": {},
   "outputs": [],
   "source": [
    "# 3. Graph Visualization"
   ]
  },
  {
   "cell_type": "code",
   "execution_count": 39,
   "metadata": {},
   "outputs": [
    {
     "output_type": "error",
     "ename": "KeyboardInterrupt",
     "evalue": "",
     "traceback": [
      "\u001b[0;31m---------------------------------------------------------------------------\u001b[0m",
      "\u001b[0;31mKeyboardInterrupt\u001b[0m                         Traceback (most recent call last)",
      "\u001b[0;32m<ipython-input-39-b102434f374e>\u001b[0m in \u001b[0;36m<module>\u001b[0;34m\u001b[0m\n\u001b[0;32m----> 1\u001b[0;31m \u001b[0mpos\u001b[0m \u001b[0;34m=\u001b[0m \u001b[0mnx\u001b[0m\u001b[0;34m.\u001b[0m\u001b[0mspring_layout\u001b[0m\u001b[0;34m(\u001b[0m\u001b[0mG\u001b[0m\u001b[0;34m)\u001b[0m \u001b[0;31m# force a layout to the network before drawing\u001b[0m\u001b[0;34m\u001b[0m\u001b[0;34m\u001b[0m\u001b[0m\n\u001b[0m\u001b[1;32m      2\u001b[0m \u001b[0mnode_size\u001b[0m \u001b[0;34m=\u001b[0m \u001b[0;34m[\u001b[0m\u001b[0mv\u001b[0m\u001b[0;34m*\u001b[0m\u001b[0;36m1000\u001b[0m \u001b[0;32mfor\u001b[0m \u001b[0mv\u001b[0m \u001b[0;32min\u001b[0m \u001b[0mbetweenness_centrality\u001b[0m\u001b[0;34m]\u001b[0m\u001b[0;34m\u001b[0m\u001b[0;34m\u001b[0m\u001b[0m\n\u001b[1;32m      3\u001b[0m \u001b[0mnode_color\u001b[0m \u001b[0;34m=\u001b[0m \u001b[0;34m[\u001b[0m\u001b[0;36m2000\u001b[0m\u001b[0;34m*\u001b[0m\u001b[0mG\u001b[0m\u001b[0;34m.\u001b[0m\u001b[0mdegree\u001b[0m\u001b[0;34m(\u001b[0m\u001b[0mv\u001b[0m\u001b[0;34m)\u001b[0m \u001b[0;32mfor\u001b[0m \u001b[0mv\u001b[0m \u001b[0;32min\u001b[0m \u001b[0mG\u001b[0m\u001b[0;34m]\u001b[0m\u001b[0;34m\u001b[0m\u001b[0;34m\u001b[0m\u001b[0m\n\u001b[1;32m      4\u001b[0m \u001b[0;34m\u001b[0m\u001b[0m\n\u001b[1;32m      5\u001b[0m \u001b[0mplt\u001b[0m\u001b[0;34m.\u001b[0m\u001b[0mfigure\u001b[0m\u001b[0;34m(\u001b[0m\u001b[0mfigsize\u001b[0m\u001b[0;34m=\u001b[0m\u001b[0;34m(\u001b[0m\u001b[0;36m20\u001b[0m\u001b[0;34m,\u001b[0m\u001b[0;36m20\u001b[0m\u001b[0;34m)\u001b[0m\u001b[0;34m)\u001b[0m\u001b[0;34m\u001b[0m\u001b[0;34m\u001b[0m\u001b[0m\n",
      "\u001b[0;32m<decorator-gen-852>\u001b[0m in \u001b[0;36mfruchterman_reingold_layout\u001b[0;34m(G, k, pos, fixed, iterations, threshold, weight, scale, center, dim, seed)\u001b[0m\n",
      "\u001b[0;32m/Library/Frameworks/Python.framework/Versions/3.8/lib/python3.8/site-packages/networkx/utils/decorators.py\u001b[0m in \u001b[0;36m_random_state\u001b[0;34m(func, *args, **kwargs)\u001b[0m\n\u001b[1;32m    406\u001b[0m         \u001b[0mnew_args\u001b[0m \u001b[0;34m=\u001b[0m \u001b[0mlist\u001b[0m\u001b[0;34m(\u001b[0m\u001b[0margs\u001b[0m\u001b[0;34m)\u001b[0m\u001b[0;34m\u001b[0m\u001b[0;34m\u001b[0m\u001b[0m\n\u001b[1;32m    407\u001b[0m         \u001b[0mnew_args\u001b[0m\u001b[0;34m[\u001b[0m\u001b[0mrandom_state_index\u001b[0m\u001b[0;34m]\u001b[0m \u001b[0;34m=\u001b[0m \u001b[0mrandom_state\u001b[0m\u001b[0;34m\u001b[0m\u001b[0;34m\u001b[0m\u001b[0m\n\u001b[0;32m--> 408\u001b[0;31m         \u001b[0;32mreturn\u001b[0m \u001b[0mfunc\u001b[0m\u001b[0;34m(\u001b[0m\u001b[0;34m*\u001b[0m\u001b[0mnew_args\u001b[0m\u001b[0;34m,\u001b[0m \u001b[0;34m**\u001b[0m\u001b[0mkwargs\u001b[0m\u001b[0;34m)\u001b[0m\u001b[0;34m\u001b[0m\u001b[0;34m\u001b[0m\u001b[0m\n\u001b[0m\u001b[1;32m    409\u001b[0m \u001b[0;34m\u001b[0m\u001b[0m\n\u001b[1;32m    410\u001b[0m     \u001b[0;32mreturn\u001b[0m \u001b[0m_random_state\u001b[0m\u001b[0;34m\u001b[0m\u001b[0;34m\u001b[0m\u001b[0m\n",
      "\u001b[0;32m/Library/Frameworks/Python.framework/Versions/3.8/lib/python3.8/site-packages/networkx/drawing/layout.py\u001b[0m in \u001b[0;36mfruchterman_reingold_layout\u001b[0;34m(G, k, pos, fixed, iterations, threshold, weight, scale, center, dim, seed)\u001b[0m\n\u001b[1;32m    489\u001b[0m             \u001b[0mnnodes\u001b[0m\u001b[0;34m,\u001b[0m \u001b[0m_\u001b[0m \u001b[0;34m=\u001b[0m \u001b[0mA\u001b[0m\u001b[0;34m.\u001b[0m\u001b[0mshape\u001b[0m\u001b[0;34m\u001b[0m\u001b[0;34m\u001b[0m\u001b[0m\n\u001b[1;32m    490\u001b[0m             \u001b[0mk\u001b[0m \u001b[0;34m=\u001b[0m \u001b[0mdom_size\u001b[0m \u001b[0;34m/\u001b[0m \u001b[0mnp\u001b[0m\u001b[0;34m.\u001b[0m\u001b[0msqrt\u001b[0m\u001b[0;34m(\u001b[0m\u001b[0mnnodes\u001b[0m\u001b[0;34m)\u001b[0m\u001b[0;34m\u001b[0m\u001b[0;34m\u001b[0m\u001b[0m\n\u001b[0;32m--> 491\u001b[0;31m         pos = _sparse_fruchterman_reingold(\n\u001b[0m\u001b[1;32m    492\u001b[0m             \u001b[0mA\u001b[0m\u001b[0;34m,\u001b[0m \u001b[0mk\u001b[0m\u001b[0;34m,\u001b[0m \u001b[0mpos_arr\u001b[0m\u001b[0;34m,\u001b[0m \u001b[0mfixed\u001b[0m\u001b[0;34m,\u001b[0m \u001b[0miterations\u001b[0m\u001b[0;34m,\u001b[0m \u001b[0mthreshold\u001b[0m\u001b[0;34m,\u001b[0m \u001b[0mdim\u001b[0m\u001b[0;34m,\u001b[0m \u001b[0mseed\u001b[0m\u001b[0;34m\u001b[0m\u001b[0;34m\u001b[0m\u001b[0m\n\u001b[1;32m    493\u001b[0m         )\n",
      "\u001b[0;32m<decorator-gen-856>\u001b[0m in \u001b[0;36m_sparse_fruchterman_reingold\u001b[0;34m(A, k, pos, fixed, iterations, threshold, dim, seed)\u001b[0m\n",
      "\u001b[0;32m/Library/Frameworks/Python.framework/Versions/3.8/lib/python3.8/site-packages/networkx/utils/decorators.py\u001b[0m in \u001b[0;36m_random_state\u001b[0;34m(func, *args, **kwargs)\u001b[0m\n\u001b[1;32m    406\u001b[0m         \u001b[0mnew_args\u001b[0m \u001b[0;34m=\u001b[0m \u001b[0mlist\u001b[0m\u001b[0;34m(\u001b[0m\u001b[0margs\u001b[0m\u001b[0;34m)\u001b[0m\u001b[0;34m\u001b[0m\u001b[0;34m\u001b[0m\u001b[0m\n\u001b[1;32m    407\u001b[0m         \u001b[0mnew_args\u001b[0m\u001b[0;34m[\u001b[0m\u001b[0mrandom_state_index\u001b[0m\u001b[0;34m]\u001b[0m \u001b[0;34m=\u001b[0m \u001b[0mrandom_state\u001b[0m\u001b[0;34m\u001b[0m\u001b[0;34m\u001b[0m\u001b[0m\n\u001b[0;32m--> 408\u001b[0;31m         \u001b[0;32mreturn\u001b[0m \u001b[0mfunc\u001b[0m\u001b[0;34m(\u001b[0m\u001b[0;34m*\u001b[0m\u001b[0mnew_args\u001b[0m\u001b[0;34m,\u001b[0m \u001b[0;34m**\u001b[0m\u001b[0mkwargs\u001b[0m\u001b[0;34m)\u001b[0m\u001b[0;34m\u001b[0m\u001b[0;34m\u001b[0m\u001b[0m\n\u001b[0m\u001b[1;32m    409\u001b[0m \u001b[0;34m\u001b[0m\u001b[0m\n\u001b[1;32m    410\u001b[0m     \u001b[0;32mreturn\u001b[0m \u001b[0m_random_state\u001b[0m\u001b[0;34m\u001b[0m\u001b[0;34m\u001b[0m\u001b[0m\n",
      "\u001b[0;32m/Library/Frameworks/Python.framework/Versions/3.8/lib/python3.8/site-packages/networkx/drawing/layout.py\u001b[0m in \u001b[0;36m_sparse_fruchterman_reingold\u001b[0;34m(A, k, pos, fixed, iterations, threshold, dim, seed)\u001b[0m\n\u001b[1;32m    629\u001b[0m             \u001b[0mdelta\u001b[0m \u001b[0;34m=\u001b[0m \u001b[0;34m(\u001b[0m\u001b[0mpos\u001b[0m\u001b[0;34m[\u001b[0m\u001b[0mi\u001b[0m\u001b[0;34m]\u001b[0m \u001b[0;34m-\u001b[0m \u001b[0mpos\u001b[0m\u001b[0;34m)\u001b[0m\u001b[0;34m.\u001b[0m\u001b[0mT\u001b[0m\u001b[0;34m\u001b[0m\u001b[0;34m\u001b[0m\u001b[0m\n\u001b[1;32m    630\u001b[0m             \u001b[0;31m# distance between points\u001b[0m\u001b[0;34m\u001b[0m\u001b[0;34m\u001b[0m\u001b[0;34m\u001b[0m\u001b[0m\n\u001b[0;32m--> 631\u001b[0;31m             \u001b[0mdistance\u001b[0m \u001b[0;34m=\u001b[0m \u001b[0mnp\u001b[0m\u001b[0;34m.\u001b[0m\u001b[0msqrt\u001b[0m\u001b[0;34m(\u001b[0m\u001b[0;34m(\u001b[0m\u001b[0mdelta\u001b[0m \u001b[0;34m**\u001b[0m \u001b[0;36m2\u001b[0m\u001b[0;34m)\u001b[0m\u001b[0;34m.\u001b[0m\u001b[0msum\u001b[0m\u001b[0;34m(\u001b[0m\u001b[0maxis\u001b[0m\u001b[0;34m=\u001b[0m\u001b[0;36m0\u001b[0m\u001b[0;34m)\u001b[0m\u001b[0;34m)\u001b[0m\u001b[0;34m\u001b[0m\u001b[0;34m\u001b[0m\u001b[0m\n\u001b[0m\u001b[1;32m    632\u001b[0m             \u001b[0;31m# enforce minimum distance of 0.01\u001b[0m\u001b[0;34m\u001b[0m\u001b[0;34m\u001b[0m\u001b[0;34m\u001b[0m\u001b[0m\n\u001b[1;32m    633\u001b[0m             \u001b[0mdistance\u001b[0m \u001b[0;34m=\u001b[0m \u001b[0mnp\u001b[0m\u001b[0;34m.\u001b[0m\u001b[0mwhere\u001b[0m\u001b[0;34m(\u001b[0m\u001b[0mdistance\u001b[0m \u001b[0;34m<\u001b[0m \u001b[0;36m0.01\u001b[0m\u001b[0;34m,\u001b[0m \u001b[0;36m0.01\u001b[0m\u001b[0;34m,\u001b[0m \u001b[0mdistance\u001b[0m\u001b[0;34m)\u001b[0m\u001b[0;34m\u001b[0m\u001b[0;34m\u001b[0m\u001b[0m\n",
      "\u001b[0;32m/Library/Frameworks/Python.framework/Versions/3.8/lib/python3.8/site-packages/numpy/core/_methods.py\u001b[0m in \u001b[0;36m_sum\u001b[0;34m(a, axis, dtype, out, keepdims, initial, where)\u001b[0m\n\u001b[1;32m     36\u001b[0m def _sum(a, axis=None, dtype=None, out=None, keepdims=False,\n\u001b[1;32m     37\u001b[0m          initial=_NoValue, where=True):\n\u001b[0;32m---> 38\u001b[0;31m     \u001b[0;32mreturn\u001b[0m \u001b[0mumr_sum\u001b[0m\u001b[0;34m(\u001b[0m\u001b[0ma\u001b[0m\u001b[0;34m,\u001b[0m \u001b[0maxis\u001b[0m\u001b[0;34m,\u001b[0m \u001b[0mdtype\u001b[0m\u001b[0;34m,\u001b[0m \u001b[0mout\u001b[0m\u001b[0;34m,\u001b[0m \u001b[0mkeepdims\u001b[0m\u001b[0;34m,\u001b[0m \u001b[0minitial\u001b[0m\u001b[0;34m,\u001b[0m \u001b[0mwhere\u001b[0m\u001b[0;34m)\u001b[0m\u001b[0;34m\u001b[0m\u001b[0;34m\u001b[0m\u001b[0m\n\u001b[0m\u001b[1;32m     39\u001b[0m \u001b[0;34m\u001b[0m\u001b[0m\n\u001b[1;32m     40\u001b[0m def _prod(a, axis=None, dtype=None, out=None, keepdims=False,\n",
      "\u001b[0;31mKeyboardInterrupt\u001b[0m: "
     ]
    }
   ],
   "source": [
    "pos = nx.spring_layout(G) # force a layout to the network before drawing\n",
    "node_size = [v*1000 for v in betweenness_centrality]\n",
    "node_color = [2000*G.degree(v) for v in G]\n",
    "\n",
    "plt.figure(figsize=(20,20))\n",
    "nx.draw_networkx(G, pos=pos, with_labels=False, node_color=node_color, node_size=node_size)\n",
    "plt.axis('off')\n",
    "plt.show()"
   ]
  },
  {
   "cell_type": "code",
   "execution_count": null,
   "metadata": {},
   "outputs": [],
   "source": []
  }
 ]
}